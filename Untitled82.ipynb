{
 "cells": [
  {
   "cell_type": "code",
   "execution_count": null,
   "id": "1728fdf4",
   "metadata": {},
   "outputs": [],
   "source": [
    "n = float(input(\"Input a number: \"))\n",
    "if n >= 0:\n",
    "    if n == 0:\n",
    "        print(\"It is Zero! \")\n",
    "else: print(\"Number is Positive number. \")\n",
    "            else: print(\"Number is Negative number. \")"
   ]
  },
  {
   "cell_type": "code",
   "execution_count": null,
   "id": "c4d29cfa",
   "metadata": {},
   "outputs": [],
   "source": [
    "num_list=[]\n",
    "n=int(input(\"Enter the Starting of the range:\"))\n",
    "k=int(input(\"Enter the Ending of the range:\"))\n",
    "for i in range(n,k):\n",
    "  num_list.append(i)\n",
    "print(\"Original Number List:\", num_list)\n",
    "even_list=[]\n",
    "odd_list=[]\n",
    "for i in range(len(num_list)):\n",
    "  if(num_list[i]%2==0):\n",
    "    even_list.append(num_list[i])\n",
    "  else:\n",
    "    odd_list.append(num_list[i])\n",
    "print(\"Even Numbers List:\", even_list)\n",
    "print(\"Odd Numbers List:\", odd_list)"
   ]
  },
  {
   "cell_type": "code",
   "execution_count": null,
   "id": "62ba0427",
   "metadata": {},
   "outputs": [],
   "source": [
    "year = int(input('Enter year : '))\n",
    "if (year%4 == 0 and year%100 != 0) or (year%400 == 0) :\n",
    "    print(year, \"is a leap year.\") \n",
    "    else : print(year, \"is not a leap year.\")"
   ]
  },
  {
   "cell_type": "code",
   "execution_count": null,
   "id": "5dde7125",
   "metadata": {},
   "outputs": [],
   "source": [
    "for j in range(2, int(a/2) + 1):\n",
    "    # If the given number is divisible or not. \n",
    "    if (a % j) == 0:\n",
    "        print(a, \"is not a prime number\")"
   ]
  },
  {
   "cell_type": "code",
   "execution_count": null,
   "id": "2bb1807c",
   "metadata": {},
   "outputs": [],
   "source": [
    "lower_value = int(input (\"Please, Enter the Lowest Range Value: \"))  \n",
    "upper_value = int(input (\"Please, Enter the Upper Range Value: \"))  \n",
    "  \n",
    "print (\"The Prime Numbers in the range are: \")  \n",
    "for number in range (lower_value, upper_value + 1):  \n",
    "    if number > 1:  \n",
    "        for i in range (2, number):  \n",
    "            if (number % i) == 0:  \n",
    "                break  \n",
    "        else:  \n",
    "            print (number)  "
   ]
  }
 ],
 "metadata": {
  "kernelspec": {
   "display_name": "Python 3",
   "language": "python",
   "name": "python3"
  },
  "language_info": {
   "codemirror_mode": {
    "name": "ipython",
    "version": 3
   },
   "file_extension": ".py",
   "mimetype": "text/x-python",
   "name": "python",
   "nbconvert_exporter": "python",
   "pygments_lexer": "ipython3",
   "version": "3.8.8"
  }
 },
 "nbformat": 4,
 "nbformat_minor": 5
}
